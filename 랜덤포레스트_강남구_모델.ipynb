{
 "cells": [
  {
   "cell_type": "code",
   "execution_count": 1,
   "id": "14a270f8",
   "metadata": {},
   "outputs": [],
   "source": [
    "import numpy as np\n",
    "import pandas as pd\n",
    "import matplotlib.pyplot as plt\n",
    "import sklearn.metrics as mt\n",
    "from sklearn.tree import export_graphviz\n",
    "from sklearn.tree import DecisionTreeClassifier\n",
    "from sklearn.ensemble import RandomForestClassifier\n",
    "from sklearn.model_selection import train_test_split\n",
    "from sklearn.model_selection import StratifiedShuffleSplit\n",
    "from sklearn.model_selection import cross_val_score\n",
    "from sklearn.model_selection import RandomizedSearchCV\n",
    "from sklearn.metrics import confusion_matrix \n",
    "import joblib"
   ]
  },
  {
   "cell_type": "code",
   "execution_count": 2,
   "id": "a313a9e3",
   "metadata": {},
   "outputs": [
    {
     "data": {
      "text/html": [
       "<div>\n",
       "<style scoped>\n",
       "    .dataframe tbody tr th:only-of-type {\n",
       "        vertical-align: middle;\n",
       "    }\n",
       "\n",
       "    .dataframe tbody tr th {\n",
       "        vertical-align: top;\n",
       "    }\n",
       "\n",
       "    .dataframe thead th {\n",
       "        text-align: right;\n",
       "    }\n",
       "</style>\n",
       "<table border=\"1\" class=\"dataframe\">\n",
       "  <thead>\n",
       "    <tr style=\"text-align: right;\">\n",
       "      <th></th>\n",
       "      <th>SO2</th>\n",
       "      <th>CO</th>\n",
       "      <th>O3</th>\n",
       "      <th>NO2</th>\n",
       "      <th>PM10</th>\n",
       "      <th>temp</th>\n",
       "      <th>deg_sin</th>\n",
       "      <th>deg_cos</th>\n",
       "      <th>spd</th>\n",
       "      <th>rain</th>\n",
       "      <th>humi</th>\n",
       "    </tr>\n",
       "    <tr>\n",
       "      <th>time</th>\n",
       "      <th></th>\n",
       "      <th></th>\n",
       "      <th></th>\n",
       "      <th></th>\n",
       "      <th></th>\n",
       "      <th></th>\n",
       "      <th></th>\n",
       "      <th></th>\n",
       "      <th></th>\n",
       "      <th></th>\n",
       "      <th></th>\n",
       "    </tr>\n",
       "  </thead>\n",
       "  <tbody>\n",
       "    <tr>\n",
       "      <th>2010-01-01 1:00</th>\n",
       "      <td>0.005</td>\n",
       "      <td>0.4</td>\n",
       "      <td>0.011</td>\n",
       "      <td>0.027</td>\n",
       "      <td>좋음</td>\n",
       "      <td>-10.1</td>\n",
       "      <td>0.146083</td>\n",
       "      <td>0.989272</td>\n",
       "      <td>1.3</td>\n",
       "      <td>0.0</td>\n",
       "      <td>64.4</td>\n",
       "    </tr>\n",
       "    <tr>\n",
       "      <th>2010-01-01 2:00</th>\n",
       "      <td>0.005</td>\n",
       "      <td>0.5</td>\n",
       "      <td>0.006</td>\n",
       "      <td>0.034</td>\n",
       "      <td>보통</td>\n",
       "      <td>-9.8</td>\n",
       "      <td>0.648120</td>\n",
       "      <td>0.761538</td>\n",
       "      <td>0.8</td>\n",
       "      <td>0.0</td>\n",
       "      <td>38.5</td>\n",
       "    </tr>\n",
       "    <tr>\n",
       "      <th>2010-01-01 3:00</th>\n",
       "      <td>0.005</td>\n",
       "      <td>0.5</td>\n",
       "      <td>0.008</td>\n",
       "      <td>0.030</td>\n",
       "      <td>보통</td>\n",
       "      <td>-10.7</td>\n",
       "      <td>0.928486</td>\n",
       "      <td>0.371368</td>\n",
       "      <td>1.9</td>\n",
       "      <td>0.0</td>\n",
       "      <td>49.0</td>\n",
       "    </tr>\n",
       "    <tr>\n",
       "      <th>2010-01-01 4:00</th>\n",
       "      <td>0.005</td>\n",
       "      <td>0.5</td>\n",
       "      <td>0.008</td>\n",
       "      <td>0.030</td>\n",
       "      <td>보통</td>\n",
       "      <td>-11.1</td>\n",
       "      <td>0.873772</td>\n",
       "      <td>0.486335</td>\n",
       "      <td>0.7</td>\n",
       "      <td>0.0</td>\n",
       "      <td>54.2</td>\n",
       "    </tr>\n",
       "    <tr>\n",
       "      <th>2010-01-01 5:00</th>\n",
       "      <td>0.005</td>\n",
       "      <td>0.4</td>\n",
       "      <td>0.009</td>\n",
       "      <td>0.027</td>\n",
       "      <td>보통</td>\n",
       "      <td>-11.1</td>\n",
       "      <td>0.887815</td>\n",
       "      <td>0.460200</td>\n",
       "      <td>1.9</td>\n",
       "      <td>0.0</td>\n",
       "      <td>13.0</td>\n",
       "    </tr>\n",
       "    <tr>\n",
       "      <th>...</th>\n",
       "      <td>...</td>\n",
       "      <td>...</td>\n",
       "      <td>...</td>\n",
       "      <td>...</td>\n",
       "      <td>...</td>\n",
       "      <td>...</td>\n",
       "      <td>...</td>\n",
       "      <td>...</td>\n",
       "      <td>...</td>\n",
       "      <td>...</td>\n",
       "      <td>...</td>\n",
       "    </tr>\n",
       "    <tr>\n",
       "      <th>2020-12-31 20:00</th>\n",
       "      <td>0.004</td>\n",
       "      <td>0.5</td>\n",
       "      <td>0.013</td>\n",
       "      <td>0.030</td>\n",
       "      <td>좋음</td>\n",
       "      <td>-5.4</td>\n",
       "      <td>-0.004847</td>\n",
       "      <td>-0.016767</td>\n",
       "      <td>1.6</td>\n",
       "      <td>0.0</td>\n",
       "      <td>48.9</td>\n",
       "    </tr>\n",
       "    <tr>\n",
       "      <th>2020-12-31 21:00</th>\n",
       "      <td>0.004</td>\n",
       "      <td>0.5</td>\n",
       "      <td>0.014</td>\n",
       "      <td>0.027</td>\n",
       "      <td>좋음</td>\n",
       "      <td>-5.6</td>\n",
       "      <td>-0.017272</td>\n",
       "      <td>0.002509</td>\n",
       "      <td>1.5</td>\n",
       "      <td>0.0</td>\n",
       "      <td>51.9</td>\n",
       "    </tr>\n",
       "    <tr>\n",
       "      <th>2020-12-31 22:00</th>\n",
       "      <td>0.004</td>\n",
       "      <td>0.5</td>\n",
       "      <td>0.018</td>\n",
       "      <td>0.022</td>\n",
       "      <td>보통</td>\n",
       "      <td>-5.8</td>\n",
       "      <td>0.014219</td>\n",
       "      <td>-0.010121</td>\n",
       "      <td>2.1</td>\n",
       "      <td>0.0</td>\n",
       "      <td>54.5</td>\n",
       "    </tr>\n",
       "    <tr>\n",
       "      <th>2020-12-31 23:00</th>\n",
       "      <td>0.004</td>\n",
       "      <td>0.5</td>\n",
       "      <td>0.020</td>\n",
       "      <td>0.020</td>\n",
       "      <td>보통</td>\n",
       "      <td>-5.6</td>\n",
       "      <td>-0.013408</td>\n",
       "      <td>0.011173</td>\n",
       "      <td>1.9</td>\n",
       "      <td>0.0</td>\n",
       "      <td>54.2</td>\n",
       "    </tr>\n",
       "    <tr>\n",
       "      <th>2021-01-01 0:00</th>\n",
       "      <td>0.004</td>\n",
       "      <td>0.4</td>\n",
       "      <td>0.023</td>\n",
       "      <td>0.016</td>\n",
       "      <td>좋음</td>\n",
       "      <td>-6.1</td>\n",
       "      <td>-0.012015</td>\n",
       "      <td>0.012660</td>\n",
       "      <td>2.4</td>\n",
       "      <td>0.0</td>\n",
       "      <td>54.5</td>\n",
       "    </tr>\n",
       "  </tbody>\n",
       "</table>\n",
       "<p>96432 rows × 11 columns</p>\n",
       "</div>"
      ],
      "text/plain": [
       "                    SO2   CO     O3    NO2 PM10  temp   deg_sin   deg_cos  \\\n",
       "time                                                                        \n",
       "2010-01-01 1:00   0.005  0.4  0.011  0.027   좋음 -10.1  0.146083  0.989272   \n",
       "2010-01-01 2:00   0.005  0.5  0.006  0.034   보통  -9.8  0.648120  0.761538   \n",
       "2010-01-01 3:00   0.005  0.5  0.008  0.030   보통 -10.7  0.928486  0.371368   \n",
       "2010-01-01 4:00   0.005  0.5  0.008  0.030   보통 -11.1  0.873772  0.486335   \n",
       "2010-01-01 5:00   0.005  0.4  0.009  0.027   보통 -11.1  0.887815  0.460200   \n",
       "...                 ...  ...    ...    ...  ...   ...       ...       ...   \n",
       "2020-12-31 20:00  0.004  0.5  0.013  0.030   좋음  -5.4 -0.004847 -0.016767   \n",
       "2020-12-31 21:00  0.004  0.5  0.014  0.027   좋음  -5.6 -0.017272  0.002509   \n",
       "2020-12-31 22:00  0.004  0.5  0.018  0.022   보통  -5.8  0.014219 -0.010121   \n",
       "2020-12-31 23:00  0.004  0.5  0.020  0.020   보통  -5.6 -0.013408  0.011173   \n",
       "2021-01-01 0:00   0.004  0.4  0.023  0.016   좋음  -6.1 -0.012015  0.012660   \n",
       "\n",
       "                  spd  rain  humi  \n",
       "time                               \n",
       "2010-01-01 1:00   1.3   0.0  64.4  \n",
       "2010-01-01 2:00   0.8   0.0  38.5  \n",
       "2010-01-01 3:00   1.9   0.0  49.0  \n",
       "2010-01-01 4:00   0.7   0.0  54.2  \n",
       "2010-01-01 5:00   1.9   0.0  13.0  \n",
       "...               ...   ...   ...  \n",
       "2020-12-31 20:00  1.6   0.0  48.9  \n",
       "2020-12-31 21:00  1.5   0.0  51.9  \n",
       "2020-12-31 22:00  2.1   0.0  54.5  \n",
       "2020-12-31 23:00  1.9   0.0  54.2  \n",
       "2021-01-01 0:00   2.4   0.0  54.5  \n",
       "\n",
       "[96432 rows x 11 columns]"
      ]
     },
     "execution_count": 2,
     "metadata": {},
     "output_type": "execute_result"
    }
   ],
   "source": [
    "# 1. daily raw data 가져오기\n",
    "model_data = pd.read_csv(\"C:/Users/yunoa/SW/dataset/data_강남구_f.csv\", encoding=\"utf-8\")\n",
    "model_data.set_index('time', inplace=True)\n",
    "model_data"
   ]
  },
  {
   "cell_type": "code",
   "execution_count": 3,
   "id": "228e618c",
   "metadata": {},
   "outputs": [
    {
     "data": {
      "text/plain": [
       "96432"
      ]
     },
     "execution_count": 3,
     "metadata": {},
     "output_type": "execute_result"
    }
   ],
   "source": [
    "len(model_data)"
   ]
  },
  {
   "cell_type": "code",
   "execution_count": 4,
   "id": "8d6812a1",
   "metadata": {},
   "outputs": [],
   "source": [
    "# 2. features, label 전체데이터 생성\n",
    "X = model_data.drop(\"PM10\", axis = 1)\n",
    "y = model_data.PM10"
   ]
  },
  {
   "cell_type": "code",
   "execution_count": 5,
   "id": "29eeb169",
   "metadata": {},
   "outputs": [],
   "source": [
    "sss = StratifiedShuffleSplit(n_splits=1, test_size=0.2, random_state=42) "
   ]
  },
  {
   "cell_type": "code",
   "execution_count": 6,
   "id": "31bed432",
   "metadata": {},
   "outputs": [],
   "source": [
    "for train_index, test_index in sss.split(X, y): #sss.split(~) 안에 n_splits 수만큼 준비됨\n",
    "    X_train, X_test = X.iloc[train_index,], X.iloc[test_index,]\n",
    "    y_train, y_test = y[train_index], y[test_index] "
   ]
  },
  {
   "cell_type": "code",
   "execution_count": null,
   "id": "58627ca9",
   "metadata": {},
   "outputs": [],
   "source": [
    "# ===== 랜덤포레스트 메인 =====\n",
    "# 4. 모델 세부 튜닝: 최적 하이퍼파라미터 찾기\n",
    "rnd_clf = RandomForestClassifier(n_estimators=100, n_jobs=-1, random_state=1)\n",
    "\n",
    "param_dist_rf = {\n",
    "    'n_estimators':[10, 50, 100, 150, 200, 300],\n",
    "    'max_leaf_nodes':[5, 10, 15, 20, 30, 40],\n",
    "    'min_samples_leaf' : [5, 10, 15, 20, 30, 40],\n",
    "    'min_samples_split' : [5, 10,15, 20, 30, 40],\n",
    "    'max_depth' : [5, 10, 15, 20, 25, 30]\n",
    "}\n",
    "\n",
    "rnd_search = RandomizedSearchCV(rnd_clf, param_dist_rf, cv=10, random_state=1)\n",
    "rnd_search.fit(X_train, y_train)\n",
    "print(rnd_search.best_params_)"
   ]
  },
  {
   "cell_type": "code",
   "execution_count": 22,
   "id": "83106615",
   "metadata": {},
   "outputs": [
    {
     "name": "stdout",
     "output_type": "stream",
     "text": [
      "\n",
      "<10-fold cross-validation>\n",
      "accuracy score mean:  0.7025344312577093\n"
     ]
    }
   ],
   "source": [
    "# 5. 학습 및 K-fold cross_validation 평가\n",
    "rnd_clf = RandomForestClassifier(n_estimators=200, min_samples_split = 15, min_samples_leaf = 15, max_leaf_nodes=40,\n",
    "                                 max_features='auto', max_depth = 20, n_jobs=-1, random_state=1) #디폴트\n",
    "rnd_scores = cross_val_score(rnd_clf, X_train, y_train, scoring=\"accuracy\", cv=10)\n",
    "print(\"\\n<10-fold cross-validation>\")\n",
    "print(\"accuracy score mean: \", rnd_scores.mean())"
   ]
  },
  {
   "cell_type": "code",
   "execution_count": 23,
   "id": "395a74bf",
   "metadata": {},
   "outputs": [
    {
     "name": "stdout",
     "output_type": "stream",
     "text": [
      "\n",
      "<AI model: machine learning done >\n",
      "accuracy_score of train data(0.8 of sample):  0.7042063646380193\n",
      "accuracy_score of test data(0.2 of sample):  0.7072121117851402\n"
     ]
    }
   ],
   "source": [
    "# 6. 최종 모델 학습\n",
    "rnd_clf.fit(X_train, y_train)\n",
    "print(\"\\n<AI model: machine learning done >\")\n",
    "print(\"accuracy_score of train data(0.8 of sample): \", rnd_clf.score(X_train, y_train))\n",
    "print(\"accuracy_score of test data(0.2 of sample): \", rnd_clf.score(X_test, y_test)) "
   ]
  },
  {
   "cell_type": "code",
   "execution_count": 24,
   "id": "72070836",
   "metadata": {},
   "outputs": [
    {
     "name": "stdout",
     "output_type": "stream",
     "text": [
      "\n",
      "<Confusion matrix>\n",
      "(of test)\n",
      "좋음 보통 나쁨 매우나쁨\n",
      "[[4671 2409    0    0]\n",
      " [1505 8854   15    0]\n",
      " [  46 1443  115    0]\n",
      " [  20  170   39    0]]\n"
     ]
    }
   ],
   "source": [
    "# 7. confusion matrix 확인\n",
    "y_test_pred = rnd_clf.predict(X_test)\n",
    "cm1= confusion_matrix(y_test, y_test_pred, labels=[\"좋음\",\"보통\",\"나쁨\", \"매우나쁨\"])\n",
    "print(\"\\n<Confusion matrix>\")\n",
    "print(\"(of test)\")\n",
    "print(\"좋음\",\"보통\",\"나쁨\", \"매우나쁨\")\n",
    "print(cm1)"
   ]
  },
  {
   "cell_type": "code",
   "execution_count": 25,
   "id": "7c0e9cc7",
   "metadata": {},
   "outputs": [
    {
     "name": "stdout",
     "output_type": "stream",
     "text": [
      "\n",
      "<Feature importance>\n",
      "SO2 :  0.1838853508479851\n",
      "CO :  0.375207860165281\n",
      "O3 :  0.07626355927166313\n",
      "NO2 :  0.1934912346928316\n",
      "temp :  0.02694125363451027\n",
      "deg_sin :  0.08496452589444371\n",
      "deg_cos :  0.005845625816061271\n",
      "spd :  0.003922483969654498\n",
      "rain :  0.0191621715974142\n",
      "humi :  0.03031593411015523\n"
     ]
    }
   ],
   "source": [
    "# 8. 변수 중요도 체크\n",
    "print(\"\\n<Feature importance>\")\n",
    "for name, score in zip(X.columns, rnd_clf.feature_importances_):\n",
    "    print(name, \": \", score)"
   ]
  },
  {
   "cell_type": "code",
   "execution_count": 26,
   "id": "4e643808",
   "metadata": {},
   "outputs": [],
   "source": [
    "# 9. backtesting용 과거의 예측데이터 생성\n",
    "y_prediction = rnd_clf.predict(X)\n",
    "y_pred = pd.Series(y_prediction, index=y.index) "
   ]
  },
  {
   "cell_type": "code",
   "execution_count": 27,
   "id": "82edd361",
   "metadata": {},
   "outputs": [
    {
     "name": "stdout",
     "output_type": "stream",
     "text": [
      "\n",
      "< AI model: save >\n"
     ]
    }
   ],
   "source": [
    "# 10. 모델 저장\n",
    "joblib.dump(rnd_clf, \"C:/Users/yunoa/SW/model/forecast_model_강남구.pkl\")\n",
    "print(\"\\n< AI model: save >\") "
   ]
  },
  {
   "cell_type": "code",
   "execution_count": null,
   "id": "33e9ebbd",
   "metadata": {},
   "outputs": [],
   "source": []
  }
 ],
 "metadata": {
  "kernelspec": {
   "display_name": "Python 3",
   "language": "python",
   "name": "python3"
  },
  "language_info": {
   "codemirror_mode": {
    "name": "ipython",
    "version": 3
   },
   "file_extension": ".py",
   "mimetype": "text/x-python",
   "name": "python",
   "nbconvert_exporter": "python",
   "pygments_lexer": "ipython3",
   "version": "3.8.8"
  }
 },
 "nbformat": 4,
 "nbformat_minor": 5
}
